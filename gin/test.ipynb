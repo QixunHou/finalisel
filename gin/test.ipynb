{
 "metadata": {
  "language_info": {
   "codemirror_mode": {
    "name": "ipython",
    "version": 3
   },
   "file_extension": ".py",
   "mimetype": "text/x-python",
   "name": "python",
   "nbconvert_exporter": "python",
   "pygments_lexer": "ipython3",
   "version": "3.7.7-final"
  },
  "orig_nbformat": 2,
  "kernelspec": {
   "name": "python_defaultSpec_1596425133327",
   "display_name": "Python 3.7.7 64-bit ('py3': conda)"
  }
 },
 "nbformat": 4,
 "nbformat_minor": 2,
 "cells": [
  {
   "cell_type": "code",
   "execution_count": 1,
   "metadata": {},
   "outputs": [],
   "source": [
    "from util import *\n",
    "import networkx as nx"
   ]
  },
  {
   "cell_type": "code",
   "execution_count": 2,
   "metadata": {
    "tags": []
   },
   "outputs": [
    {
     "output_type": "stream",
     "name": "stdout",
     "text": "loading data\n# classes: 2\n# maximum node tag: 7\n# data: 188\n"
    }
   ],
   "source": [
    "graphs, classes = load_data('MUTAG', degree_as_tag=False)"
   ]
  },
  {
   "cell_type": "code",
   "execution_count": 3,
   "metadata": {},
   "outputs": [],
   "source": [
    "g = graphs[1]"
   ]
  },
  {
   "cell_type": "code",
   "execution_count": 4,
   "metadata": {},
   "outputs": [
    {
     "output_type": "display_data",
     "data": {
      "text/plain": "<Figure size 432x288 with 1 Axes>",
      "image/svg+xml": "<?xml version=\"1.0\" encoding=\"utf-8\" standalone=\"no\"?>\n<!DOCTYPE svg PUBLIC \"-//W3C//DTD SVG 1.1//EN\"\n  \"http://www.w3.org/Graphics/SVG/1.1/DTD/svg11.dtd\">\n<!-- Created with matplotlib (https://matplotlib.org/) -->\n<svg height=\"302.4pt\" version=\"1.1\" viewBox=\"0 0 446.4 302.4\" width=\"446.4pt\" xmlns=\"http://www.w3.org/2000/svg\" xmlns:xlink=\"http://www.w3.org/1999/xlink\">\n <defs>\n  <style type=\"text/css\">\n*{stroke-linecap:butt;stroke-linejoin:round;}\n  </style>\n </defs>\n <g id=\"figure_1\">\n  <g id=\"patch_1\">\n   <path d=\"M 0 302.4 \nL 446.4 302.4 \nL 446.4 0 \nL 0 0 \nz\n\" style=\"fill:#ffffff;\"/>\n  </g>\n  <g id=\"axes_1\">\n   <g id=\"LineCollection_1\">\n    <path clip-path=\"url(#p2fb1d1c63d)\" d=\"M 225.849494 215.539119 \nL 179.72289 243.090634 \n\" style=\"fill:none;stroke:#000000;\"/>\n    <path clip-path=\"url(#p2fb1d1c63d)\" d=\"M 225.849494 215.539119 \nL 278.160237 186.436833 \n\" style=\"fill:none;stroke:#000000;\"/>\n    <path clip-path=\"url(#p2fb1d1c63d)\" d=\"M 179.72289 243.090634 \nL 242.947346 245.849783 \n\" style=\"fill:none;stroke:#000000;\"/>\n    <path clip-path=\"url(#p2fb1d1c63d)\" d=\"M 179.72289 243.090634 \nL 106.188044 261.33278 \n\" style=\"fill:none;stroke:#000000;\"/>\n    <path clip-path=\"url(#p2fb1d1c63d)\" d=\"M 278.160237 186.436833 \nL 270.316656 196.269675 \n\" style=\"fill:none;stroke:#000000;\"/>\n    <path clip-path=\"url(#p2fb1d1c63d)\" d=\"M 278.160237 186.436833 \nL 317.388159 157.409034 \n\" style=\"fill:none;stroke:#000000;\"/>\n    <path clip-path=\"url(#p2fb1d1c63d)\" d=\"M 242.947346 245.849783 \nL 303.04772 233.967619 \n\" style=\"fill:none;stroke:#000000;\"/>\n    <path clip-path=\"url(#p2fb1d1c63d)\" d=\"M 106.188044 261.33278 \nL 50.912184 266.576634 \n\" style=\"fill:none;stroke:#000000;\"/>\n    <path clip-path=\"url(#p2fb1d1c63d)\" d=\"M 106.188044 261.33278 \nL 76.922834 281.815887 \n\" style=\"fill:none;stroke:#000000;\"/>\n    <path clip-path=\"url(#p2fb1d1c63d)\" d=\"M 303.04772 233.967619 \nL 270.316656 196.269675 \n\" style=\"fill:none;stroke:#000000;\"/>\n    <path clip-path=\"url(#p2fb1d1c63d)\" d=\"M 303.04772 233.967619 \nL 366.158724 259.550257 \n\" style=\"fill:none;stroke:#000000;\"/>\n    <path clip-path=\"url(#p2fb1d1c63d)\" d=\"M 270.316656 196.269675 \nL 232.043002 156.483166 \n\" style=\"fill:none;stroke:#000000;\"/>\n    <path clip-path=\"url(#p2fb1d1c63d)\" d=\"M 366.158724 259.550257 \nL 388.250391 282.109091 \n\" style=\"fill:none;stroke:#000000;\"/>\n    <path clip-path=\"url(#p2fb1d1c63d)\" d=\"M 366.158724 259.550257 \nL 419.563636 268.333946 \n\" style=\"fill:none;stroke:#000000;\"/>\n    <path clip-path=\"url(#p2fb1d1c63d)\" d=\"M 232.043002 156.483166 \nL 274.913211 134.173753 \n\" style=\"fill:none;stroke:#000000;\"/>\n    <path clip-path=\"url(#p2fb1d1c63d)\" d=\"M 232.043002 156.483166 \nL 162.083138 130.218107 \n\" style=\"fill:none;stroke:#000000;\"/>\n    <path clip-path=\"url(#p2fb1d1c63d)\" d=\"M 317.388159 157.409034 \nL 375.731267 150.026644 \n\" style=\"fill:none;stroke:#000000;\"/>\n    <path clip-path=\"url(#p2fb1d1c63d)\" d=\"M 317.388159 157.409034 \nL 274.913211 134.173753 \n\" style=\"fill:none;stroke:#000000;\"/>\n    <path clip-path=\"url(#p2fb1d1c63d)\" d=\"M 274.913211 134.173753 \nL 257.2081 101.398005 \n\" style=\"fill:none;stroke:#000000;\"/>\n    <path clip-path=\"url(#p2fb1d1c63d)\" d=\"M 257.2081 101.398005 \nL 215.732944 76.068717 \n\" style=\"fill:none;stroke:#000000;\"/>\n    <path clip-path=\"url(#p2fb1d1c63d)\" d=\"M 162.083138 130.218107 \nL 181.434234 100.111544 \n\" style=\"fill:none;stroke:#000000;\"/>\n    <path clip-path=\"url(#p2fb1d1c63d)\" d=\"M 162.083138 130.218107 \nL 79.088521 128.187369 \n\" style=\"fill:none;stroke:#000000;\"/>\n    <path clip-path=\"url(#p2fb1d1c63d)\" d=\"M 181.434234 100.111544 \nL 215.732944 76.068717 \n\" style=\"fill:none;stroke:#000000;\"/>\n    <path clip-path=\"url(#p2fb1d1c63d)\" d=\"M 79.088521 128.187369 \nL 26.836364 136.239183 \n\" style=\"fill:none;stroke:#000000;\"/>\n    <path clip-path=\"url(#p2fb1d1c63d)\" d=\"M 79.088521 128.187369 \nL 29.829286 116.067026 \n\" style=\"fill:none;stroke:#000000;\"/>\n    <path clip-path=\"url(#p2fb1d1c63d)\" d=\"M 215.732944 76.068717 \nL 200.663015 43.731841 \n\" style=\"fill:none;stroke:#000000;\"/>\n    <path clip-path=\"url(#p2fb1d1c63d)\" d=\"M 200.663015 43.731841 \nL 210.812285 20.290909 \n\" style=\"fill:none;stroke:#000000;\"/>\n    <path clip-path=\"url(#p2fb1d1c63d)\" d=\"M 200.663015 43.731841 \nL 158.97373 32.585351 \n\" style=\"fill:none;stroke:#000000;\"/>\n   </g>\n   <g id=\"PathCollection_1\">\n    <defs>\n     <path d=\"M 0 8.660254 \nC 2.296726 8.660254 4.499694 7.747755 6.123724 6.123724 \nC 7.747755 4.499694 8.660254 2.296726 8.660254 0 \nC 8.660254 -2.296726 7.747755 -4.499694 6.123724 -6.123724 \nC 4.499694 -7.747755 2.296726 -8.660254 0 -8.660254 \nC -2.296726 -8.660254 -4.499694 -7.747755 -6.123724 -6.123724 \nC -7.747755 -4.499694 -8.660254 -2.296726 -8.660254 0 \nC -8.660254 2.296726 -7.747755 4.499694 -6.123724 6.123724 \nC -4.499694 7.747755 -2.296726 8.660254 0 8.660254 \nz\n\" id=\"m586a5110af\" style=\"stroke:#1f78b4;\"/>\n    </defs>\n    <g clip-path=\"url(#p2fb1d1c63d)\">\n     <use style=\"fill:#1f78b4;stroke:#1f78b4;\" x=\"225.849494\" xlink:href=\"#m586a5110af\" y=\"215.539119\"/>\n     <use style=\"fill:#1f78b4;stroke:#1f78b4;\" x=\"179.72289\" xlink:href=\"#m586a5110af\" y=\"243.090634\"/>\n     <use style=\"fill:#1f78b4;stroke:#1f78b4;\" x=\"278.160237\" xlink:href=\"#m586a5110af\" y=\"186.436833\"/>\n     <use style=\"fill:#1f78b4;stroke:#1f78b4;\" x=\"242.947346\" xlink:href=\"#m586a5110af\" y=\"245.849783\"/>\n     <use style=\"fill:#1f78b4;stroke:#1f78b4;\" x=\"106.188044\" xlink:href=\"#m586a5110af\" y=\"261.33278\"/>\n     <use style=\"fill:#1f78b4;stroke:#1f78b4;\" x=\"303.04772\" xlink:href=\"#m586a5110af\" y=\"233.967619\"/>\n     <use style=\"fill:#1f78b4;stroke:#1f78b4;\" x=\"270.316656\" xlink:href=\"#m586a5110af\" y=\"196.269675\"/>\n     <use style=\"fill:#1f78b4;stroke:#1f78b4;\" x=\"366.158724\" xlink:href=\"#m586a5110af\" y=\"259.550257\"/>\n     <use style=\"fill:#1f78b4;stroke:#1f78b4;\" x=\"232.043002\" xlink:href=\"#m586a5110af\" y=\"156.483166\"/>\n     <use style=\"fill:#1f78b4;stroke:#1f78b4;\" x=\"317.388159\" xlink:href=\"#m586a5110af\" y=\"157.409034\"/>\n     <use style=\"fill:#1f78b4;stroke:#1f78b4;\" x=\"375.731267\" xlink:href=\"#m586a5110af\" y=\"150.026644\"/>\n     <use style=\"fill:#1f78b4;stroke:#1f78b4;\" x=\"274.913211\" xlink:href=\"#m586a5110af\" y=\"134.173753\"/>\n     <use style=\"fill:#1f78b4;stroke:#1f78b4;\" x=\"257.2081\" xlink:href=\"#m586a5110af\" y=\"101.398005\"/>\n     <use style=\"fill:#1f78b4;stroke:#1f78b4;\" x=\"162.083138\" xlink:href=\"#m586a5110af\" y=\"130.218107\"/>\n     <use style=\"fill:#1f78b4;stroke:#1f78b4;\" x=\"181.434234\" xlink:href=\"#m586a5110af\" y=\"100.111544\"/>\n     <use style=\"fill:#1f78b4;stroke:#1f78b4;\" x=\"79.088521\" xlink:href=\"#m586a5110af\" y=\"128.187369\"/>\n     <use style=\"fill:#1f78b4;stroke:#1f78b4;\" x=\"215.732944\" xlink:href=\"#m586a5110af\" y=\"76.068717\"/>\n     <use style=\"fill:#1f78b4;stroke:#1f78b4;\" x=\"200.663015\" xlink:href=\"#m586a5110af\" y=\"43.731841\"/>\n     <use style=\"fill:#1f78b4;stroke:#1f78b4;\" x=\"210.812285\" xlink:href=\"#m586a5110af\" y=\"20.290909\"/>\n     <use style=\"fill:#1f78b4;stroke:#1f78b4;\" x=\"158.97373\" xlink:href=\"#m586a5110af\" y=\"32.585351\"/>\n     <use style=\"fill:#1f78b4;stroke:#1f78b4;\" x=\"26.836364\" xlink:href=\"#m586a5110af\" y=\"136.239183\"/>\n     <use style=\"fill:#1f78b4;stroke:#1f78b4;\" x=\"29.829286\" xlink:href=\"#m586a5110af\" y=\"116.067026\"/>\n     <use style=\"fill:#1f78b4;stroke:#1f78b4;\" x=\"388.250391\" xlink:href=\"#m586a5110af\" y=\"282.109091\"/>\n     <use style=\"fill:#1f78b4;stroke:#1f78b4;\" x=\"419.563636\" xlink:href=\"#m586a5110af\" y=\"268.333946\"/>\n     <use style=\"fill:#1f78b4;stroke:#1f78b4;\" x=\"50.912184\" xlink:href=\"#m586a5110af\" y=\"266.576634\"/>\n     <use style=\"fill:#1f78b4;stroke:#1f78b4;\" x=\"76.922834\" xlink:href=\"#m586a5110af\" y=\"281.815887\"/>\n    </g>\n   </g>\n   <g id=\"text_1\">\n    <g clip-path=\"url(#p2fb1d1c63d)\">\n     <!-- 0 -->\n     <defs>\n      <path d=\"M 31.78125 66.40625 \nQ 24.171875 66.40625 20.328125 58.90625 \nQ 16.5 51.421875 16.5 36.375 \nQ 16.5 21.390625 20.328125 13.890625 \nQ 24.171875 6.390625 31.78125 6.390625 \nQ 39.453125 6.390625 43.28125 13.890625 \nQ 47.125 21.390625 47.125 36.375 \nQ 47.125 51.421875 43.28125 58.90625 \nQ 39.453125 66.40625 31.78125 66.40625 \nz\nM 31.78125 74.21875 \nQ 44.046875 74.21875 50.515625 64.515625 \nQ 56.984375 54.828125 56.984375 36.375 \nQ 56.984375 17.96875 50.515625 8.265625 \nQ 44.046875 -1.421875 31.78125 -1.421875 \nQ 19.53125 -1.421875 13.0625 8.265625 \nQ 6.59375 17.96875 6.59375 36.375 \nQ 6.59375 54.828125 13.0625 64.515625 \nQ 19.53125 74.21875 31.78125 74.21875 \nz\n\" id=\"DejaVuSans-48\"/>\n     </defs>\n     <g transform=\"translate(222.031994 218.850369)scale(0.12 -0.12)\">\n      <use xlink:href=\"#DejaVuSans-48\"/>\n     </g>\n    </g>\n   </g>\n   <g id=\"text_2\">\n    <g clip-path=\"url(#p2fb1d1c63d)\">\n     <!-- 1 -->\n     <defs>\n      <path d=\"M 12.40625 8.296875 \nL 28.515625 8.296875 \nL 28.515625 63.921875 \nL 10.984375 60.40625 \nL 10.984375 69.390625 \nL 28.421875 72.90625 \nL 38.28125 72.90625 \nL 38.28125 8.296875 \nL 54.390625 8.296875 \nL 54.390625 0 \nL 12.40625 0 \nz\n\" id=\"DejaVuSans-49\"/>\n     </defs>\n     <g transform=\"translate(175.90539 246.401884)scale(0.12 -0.12)\">\n      <use xlink:href=\"#DejaVuSans-49\"/>\n     </g>\n    </g>\n   </g>\n   <g id=\"text_3\">\n    <g clip-path=\"url(#p2fb1d1c63d)\">\n     <!-- 5 -->\n     <defs>\n      <path d=\"M 10.796875 72.90625 \nL 49.515625 72.90625 \nL 49.515625 64.59375 \nL 19.828125 64.59375 \nL 19.828125 46.734375 \nQ 21.96875 47.46875 24.109375 47.828125 \nQ 26.265625 48.1875 28.421875 48.1875 \nQ 40.625 48.1875 47.75 41.5 \nQ 54.890625 34.8125 54.890625 23.390625 \nQ 54.890625 11.625 47.5625 5.09375 \nQ 40.234375 -1.421875 26.90625 -1.421875 \nQ 22.3125 -1.421875 17.546875 -0.640625 \nQ 12.796875 0.140625 7.71875 1.703125 \nL 7.71875 11.625 \nQ 12.109375 9.234375 16.796875 8.0625 \nQ 21.484375 6.890625 26.703125 6.890625 \nQ 35.15625 6.890625 40.078125 11.328125 \nQ 45.015625 15.765625 45.015625 23.390625 \nQ 45.015625 31 40.078125 35.4375 \nQ 35.15625 39.890625 26.703125 39.890625 \nQ 22.75 39.890625 18.8125 39.015625 \nQ 14.890625 38.140625 10.796875 36.28125 \nz\n\" id=\"DejaVuSans-53\"/>\n     </defs>\n     <g transform=\"translate(274.342737 189.748083)scale(0.12 -0.12)\">\n      <use xlink:href=\"#DejaVuSans-53\"/>\n     </g>\n    </g>\n   </g>\n   <g id=\"text_4\">\n    <g clip-path=\"url(#p2fb1d1c63d)\">\n     <!-- 2 -->\n     <defs>\n      <path d=\"M 19.1875 8.296875 \nL 53.609375 8.296875 \nL 53.609375 0 \nL 7.328125 0 \nL 7.328125 8.296875 \nQ 12.9375 14.109375 22.625 23.890625 \nQ 32.328125 33.6875 34.8125 36.53125 \nQ 39.546875 41.84375 41.421875 45.53125 \nQ 43.3125 49.21875 43.3125 52.78125 \nQ 43.3125 58.59375 39.234375 62.25 \nQ 35.15625 65.921875 28.609375 65.921875 \nQ 23.96875 65.921875 18.8125 64.3125 \nQ 13.671875 62.703125 7.8125 59.421875 \nL 7.8125 69.390625 \nQ 13.765625 71.78125 18.9375 73 \nQ 24.125 74.21875 28.421875 74.21875 \nQ 39.75 74.21875 46.484375 68.546875 \nQ 53.21875 62.890625 53.21875 53.421875 \nQ 53.21875 48.921875 51.53125 44.890625 \nQ 49.859375 40.875 45.40625 35.40625 \nQ 44.1875 33.984375 37.640625 27.21875 \nQ 31.109375 20.453125 19.1875 8.296875 \nz\n\" id=\"DejaVuSans-50\"/>\n     </defs>\n     <g transform=\"translate(239.129846 249.161033)scale(0.12 -0.12)\">\n      <use xlink:href=\"#DejaVuSans-50\"/>\n     </g>\n    </g>\n   </g>\n   <g id=\"text_5\">\n    <g clip-path=\"url(#p2fb1d1c63d)\">\n     <!-- 23 -->\n     <defs>\n      <path d=\"M 40.578125 39.3125 \nQ 47.65625 37.796875 51.625 33 \nQ 55.609375 28.21875 55.609375 21.1875 \nQ 55.609375 10.40625 48.1875 4.484375 \nQ 40.765625 -1.421875 27.09375 -1.421875 \nQ 22.515625 -1.421875 17.65625 -0.515625 \nQ 12.796875 0.390625 7.625 2.203125 \nL 7.625 11.71875 \nQ 11.71875 9.328125 16.59375 8.109375 \nQ 21.484375 6.890625 26.8125 6.890625 \nQ 36.078125 6.890625 40.9375 10.546875 \nQ 45.796875 14.203125 45.796875 21.1875 \nQ 45.796875 27.640625 41.28125 31.265625 \nQ 36.765625 34.90625 28.71875 34.90625 \nL 20.21875 34.90625 \nL 20.21875 43.015625 \nL 29.109375 43.015625 \nQ 36.375 43.015625 40.234375 45.921875 \nQ 44.09375 48.828125 44.09375 54.296875 \nQ 44.09375 59.90625 40.109375 62.90625 \nQ 36.140625 65.921875 28.71875 65.921875 \nQ 24.65625 65.921875 20.015625 65.03125 \nQ 15.375 64.15625 9.8125 62.3125 \nL 9.8125 71.09375 \nQ 15.4375 72.65625 20.34375 73.4375 \nQ 25.25 74.21875 29.59375 74.21875 \nQ 40.828125 74.21875 47.359375 69.109375 \nQ 53.90625 64.015625 53.90625 55.328125 \nQ 53.90625 49.265625 50.4375 45.09375 \nQ 46.96875 40.921875 40.578125 39.3125 \nz\n\" id=\"DejaVuSans-51\"/>\n     </defs>\n     <g transform=\"translate(98.553044 264.64403)scale(0.12 -0.12)\">\n      <use xlink:href=\"#DejaVuSans-50\"/>\n      <use x=\"63.623047\" xlink:href=\"#DejaVuSans-51\"/>\n     </g>\n    </g>\n   </g>\n   <g id=\"text_6\">\n    <g clip-path=\"url(#p2fb1d1c63d)\">\n     <!-- 3 -->\n     <g transform=\"translate(299.23022 237.278869)scale(0.12 -0.12)\">\n      <use xlink:href=\"#DejaVuSans-51\"/>\n     </g>\n    </g>\n   </g>\n   <g id=\"text_7\">\n    <g clip-path=\"url(#p2fb1d1c63d)\">\n     <!-- 4 -->\n     <defs>\n      <path d=\"M 37.796875 64.3125 \nL 12.890625 25.390625 \nL 37.796875 25.390625 \nz\nM 35.203125 72.90625 \nL 47.609375 72.90625 \nL 47.609375 25.390625 \nL 58.015625 25.390625 \nL 58.015625 17.1875 \nL 47.609375 17.1875 \nL 47.609375 0 \nL 37.796875 0 \nL 37.796875 17.1875 \nL 4.890625 17.1875 \nL 4.890625 26.703125 \nz\n\" id=\"DejaVuSans-52\"/>\n     </defs>\n     <g transform=\"translate(266.499156 199.580925)scale(0.12 -0.12)\">\n      <use xlink:href=\"#DejaVuSans-52\"/>\n     </g>\n    </g>\n   </g>\n   <g id=\"text_8\">\n    <g clip-path=\"url(#p2fb1d1c63d)\">\n     <!-- 20 -->\n     <g transform=\"translate(358.523724 262.861507)scale(0.12 -0.12)\">\n      <use xlink:href=\"#DejaVuSans-50\"/>\n      <use x=\"63.623047\" xlink:href=\"#DejaVuSans-48\"/>\n     </g>\n    </g>\n   </g>\n   <g id=\"text_9\">\n    <g clip-path=\"url(#p2fb1d1c63d)\">\n     <!-- 9 -->\n     <defs>\n      <path d=\"M 10.984375 1.515625 \nL 10.984375 10.5 \nQ 14.703125 8.734375 18.5 7.8125 \nQ 22.3125 6.890625 25.984375 6.890625 \nQ 35.75 6.890625 40.890625 13.453125 \nQ 46.046875 20.015625 46.78125 33.40625 \nQ 43.953125 29.203125 39.59375 26.953125 \nQ 35.25 24.703125 29.984375 24.703125 \nQ 19.046875 24.703125 12.671875 31.3125 \nQ 6.296875 37.9375 6.296875 49.421875 \nQ 6.296875 60.640625 12.9375 67.421875 \nQ 19.578125 74.21875 30.609375 74.21875 \nQ 43.265625 74.21875 49.921875 64.515625 \nQ 56.59375 54.828125 56.59375 36.375 \nQ 56.59375 19.140625 48.40625 8.859375 \nQ 40.234375 -1.421875 26.421875 -1.421875 \nQ 22.703125 -1.421875 18.890625 -0.6875 \nQ 15.09375 0.046875 10.984375 1.515625 \nz\nM 30.609375 32.421875 \nQ 37.25 32.421875 41.125 36.953125 \nQ 45.015625 41.5 45.015625 49.421875 \nQ 45.015625 57.28125 41.125 61.84375 \nQ 37.25 66.40625 30.609375 66.40625 \nQ 23.96875 66.40625 20.09375 61.84375 \nQ 16.21875 57.28125 16.21875 49.421875 \nQ 16.21875 41.5 20.09375 36.953125 \nQ 23.96875 32.421875 30.609375 32.421875 \nz\n\" id=\"DejaVuSans-57\"/>\n     </defs>\n     <g transform=\"translate(228.225502 159.794416)scale(0.12 -0.12)\">\n      <use xlink:href=\"#DejaVuSans-57\"/>\n     </g>\n    </g>\n   </g>\n   <g id=\"text_10\">\n    <g clip-path=\"url(#p2fb1d1c63d)\">\n     <!-- 6 -->\n     <defs>\n      <path d=\"M 33.015625 40.375 \nQ 26.375 40.375 22.484375 35.828125 \nQ 18.609375 31.296875 18.609375 23.390625 \nQ 18.609375 15.53125 22.484375 10.953125 \nQ 26.375 6.390625 33.015625 6.390625 \nQ 39.65625 6.390625 43.53125 10.953125 \nQ 47.40625 15.53125 47.40625 23.390625 \nQ 47.40625 31.296875 43.53125 35.828125 \nQ 39.65625 40.375 33.015625 40.375 \nz\nM 52.59375 71.296875 \nL 52.59375 62.3125 \nQ 48.875 64.0625 45.09375 64.984375 \nQ 41.3125 65.921875 37.59375 65.921875 \nQ 27.828125 65.921875 22.671875 59.328125 \nQ 17.53125 52.734375 16.796875 39.40625 \nQ 19.671875 43.65625 24.015625 45.921875 \nQ 28.375 48.1875 33.59375 48.1875 \nQ 44.578125 48.1875 50.953125 41.515625 \nQ 57.328125 34.859375 57.328125 23.390625 \nQ 57.328125 12.15625 50.6875 5.359375 \nQ 44.046875 -1.421875 33.015625 -1.421875 \nQ 20.359375 -1.421875 13.671875 8.265625 \nQ 6.984375 17.96875 6.984375 36.375 \nQ 6.984375 53.65625 15.1875 63.9375 \nQ 23.390625 74.21875 37.203125 74.21875 \nQ 40.921875 74.21875 44.703125 73.484375 \nQ 48.484375 72.75 52.59375 71.296875 \nz\n\" id=\"DejaVuSans-54\"/>\n     </defs>\n     <g transform=\"translate(313.570659 160.720284)scale(0.12 -0.12)\">\n      <use xlink:href=\"#DejaVuSans-54\"/>\n     </g>\n    </g>\n   </g>\n   <g id=\"text_11\">\n    <g clip-path=\"url(#p2fb1d1c63d)\">\n     <!-- 7 -->\n     <defs>\n      <path d=\"M 8.203125 72.90625 \nL 55.078125 72.90625 \nL 55.078125 68.703125 \nL 28.609375 0 \nL 18.3125 0 \nL 43.21875 64.59375 \nL 8.203125 64.59375 \nz\n\" id=\"DejaVuSans-55\"/>\n     </defs>\n     <g transform=\"translate(371.913767 153.337894)scale(0.12 -0.12)\">\n      <use xlink:href=\"#DejaVuSans-55\"/>\n     </g>\n    </g>\n   </g>\n   <g id=\"text_12\">\n    <g clip-path=\"url(#p2fb1d1c63d)\">\n     <!-- 8 -->\n     <defs>\n      <path d=\"M 31.78125 34.625 \nQ 24.75 34.625 20.71875 30.859375 \nQ 16.703125 27.09375 16.703125 20.515625 \nQ 16.703125 13.921875 20.71875 10.15625 \nQ 24.75 6.390625 31.78125 6.390625 \nQ 38.8125 6.390625 42.859375 10.171875 \nQ 46.921875 13.96875 46.921875 20.515625 \nQ 46.921875 27.09375 42.890625 30.859375 \nQ 38.875 34.625 31.78125 34.625 \nz\nM 21.921875 38.8125 \nQ 15.578125 40.375 12.03125 44.71875 \nQ 8.5 49.078125 8.5 55.328125 \nQ 8.5 64.0625 14.71875 69.140625 \nQ 20.953125 74.21875 31.78125 74.21875 \nQ 42.671875 74.21875 48.875 69.140625 \nQ 55.078125 64.0625 55.078125 55.328125 \nQ 55.078125 49.078125 51.53125 44.71875 \nQ 48 40.375 41.703125 38.8125 \nQ 48.828125 37.15625 52.796875 32.3125 \nQ 56.78125 27.484375 56.78125 20.515625 \nQ 56.78125 9.90625 50.3125 4.234375 \nQ 43.84375 -1.421875 31.78125 -1.421875 \nQ 19.734375 -1.421875 13.25 4.234375 \nQ 6.78125 9.90625 6.78125 20.515625 \nQ 6.78125 27.484375 10.78125 32.3125 \nQ 14.796875 37.15625 21.921875 38.8125 \nz\nM 18.3125 54.390625 \nQ 18.3125 48.734375 21.84375 45.5625 \nQ 25.390625 42.390625 31.78125 42.390625 \nQ 38.140625 42.390625 41.71875 45.5625 \nQ 45.3125 48.734375 45.3125 54.390625 \nQ 45.3125 60.0625 41.71875 63.234375 \nQ 38.140625 66.40625 31.78125 66.40625 \nQ 25.390625 66.40625 21.84375 63.234375 \nQ 18.3125 60.0625 18.3125 54.390625 \nz\n\" id=\"DejaVuSans-56\"/>\n     </defs>\n     <g transform=\"translate(271.095711 137.485003)scale(0.12 -0.12)\">\n      <use xlink:href=\"#DejaVuSans-56\"/>\n     </g>\n    </g>\n   </g>\n   <g id=\"text_13\">\n    <g clip-path=\"url(#p2fb1d1c63d)\">\n     <!-- 13 -->\n     <g transform=\"translate(249.5731 104.709255)scale(0.12 -0.12)\">\n      <use xlink:href=\"#DejaVuSans-49\"/>\n      <use x=\"63.623047\" xlink:href=\"#DejaVuSans-51\"/>\n     </g>\n    </g>\n   </g>\n   <g id=\"text_14\">\n    <g clip-path=\"url(#p2fb1d1c63d)\">\n     <!-- 10 -->\n     <g transform=\"translate(154.448138 133.529357)scale(0.12 -0.12)\">\n      <use xlink:href=\"#DejaVuSans-49\"/>\n      <use x=\"63.623047\" xlink:href=\"#DejaVuSans-48\"/>\n     </g>\n    </g>\n   </g>\n   <g id=\"text_15\">\n    <g clip-path=\"url(#p2fb1d1c63d)\">\n     <!-- 11 -->\n     <g transform=\"translate(173.799234 103.422794)scale(0.12 -0.12)\">\n      <use xlink:href=\"#DejaVuSans-49\"/>\n      <use x=\"63.623047\" xlink:href=\"#DejaVuSans-49\"/>\n     </g>\n    </g>\n   </g>\n   <g id=\"text_16\">\n    <g clip-path=\"url(#p2fb1d1c63d)\">\n     <!-- 17 -->\n     <g transform=\"translate(71.453521 131.498619)scale(0.12 -0.12)\">\n      <use xlink:href=\"#DejaVuSans-49\"/>\n      <use x=\"63.623047\" xlink:href=\"#DejaVuSans-55\"/>\n     </g>\n    </g>\n   </g>\n   <g id=\"text_17\">\n    <g clip-path=\"url(#p2fb1d1c63d)\">\n     <!-- 12 -->\n     <g transform=\"translate(208.097944 79.379967)scale(0.12 -0.12)\">\n      <use xlink:href=\"#DejaVuSans-49\"/>\n      <use x=\"63.623047\" xlink:href=\"#DejaVuSans-50\"/>\n     </g>\n    </g>\n   </g>\n   <g id=\"text_18\">\n    <g clip-path=\"url(#p2fb1d1c63d)\">\n     <!-- 14 -->\n     <g transform=\"translate(193.028015 47.043091)scale(0.12 -0.12)\">\n      <use xlink:href=\"#DejaVuSans-49\"/>\n      <use x=\"63.623047\" xlink:href=\"#DejaVuSans-52\"/>\n     </g>\n    </g>\n   </g>\n   <g id=\"text_19\">\n    <g clip-path=\"url(#p2fb1d1c63d)\">\n     <!-- 15 -->\n     <g transform=\"translate(203.177285 23.602159)scale(0.12 -0.12)\">\n      <use xlink:href=\"#DejaVuSans-49\"/>\n      <use x=\"63.623047\" xlink:href=\"#DejaVuSans-53\"/>\n     </g>\n    </g>\n   </g>\n   <g id=\"text_20\">\n    <g clip-path=\"url(#p2fb1d1c63d)\">\n     <!-- 16 -->\n     <g transform=\"translate(151.33873 35.896601)scale(0.12 -0.12)\">\n      <use xlink:href=\"#DejaVuSans-49\"/>\n      <use x=\"63.623047\" xlink:href=\"#DejaVuSans-54\"/>\n     </g>\n    </g>\n   </g>\n   <g id=\"text_21\">\n    <g clip-path=\"url(#p2fb1d1c63d)\">\n     <!-- 18 -->\n     <g transform=\"translate(19.201364 139.550433)scale(0.12 -0.12)\">\n      <use xlink:href=\"#DejaVuSans-49\"/>\n      <use x=\"63.623047\" xlink:href=\"#DejaVuSans-56\"/>\n     </g>\n    </g>\n   </g>\n   <g id=\"text_22\">\n    <g clip-path=\"url(#p2fb1d1c63d)\">\n     <!-- 19 -->\n     <g transform=\"translate(22.194286 119.378276)scale(0.12 -0.12)\">\n      <use xlink:href=\"#DejaVuSans-49\"/>\n      <use x=\"63.623047\" xlink:href=\"#DejaVuSans-57\"/>\n     </g>\n    </g>\n   </g>\n   <g id=\"text_23\">\n    <g clip-path=\"url(#p2fb1d1c63d)\">\n     <!-- 21 -->\n     <g transform=\"translate(380.615391 285.420341)scale(0.12 -0.12)\">\n      <use xlink:href=\"#DejaVuSans-50\"/>\n      <use x=\"63.623047\" xlink:href=\"#DejaVuSans-49\"/>\n     </g>\n    </g>\n   </g>\n   <g id=\"text_24\">\n    <g clip-path=\"url(#p2fb1d1c63d)\">\n     <!-- 22 -->\n     <g transform=\"translate(411.928636 271.645196)scale(0.12 -0.12)\">\n      <use xlink:href=\"#DejaVuSans-50\"/>\n      <use x=\"63.623047\" xlink:href=\"#DejaVuSans-50\"/>\n     </g>\n    </g>\n   </g>\n   <g id=\"text_25\">\n    <g clip-path=\"url(#p2fb1d1c63d)\">\n     <!-- 24 -->\n     <g transform=\"translate(43.277184 269.887884)scale(0.12 -0.12)\">\n      <use xlink:href=\"#DejaVuSans-50\"/>\n      <use x=\"63.623047\" xlink:href=\"#DejaVuSans-52\"/>\n     </g>\n    </g>\n   </g>\n   <g id=\"text_26\">\n    <g clip-path=\"url(#p2fb1d1c63d)\">\n     <!-- 25 -->\n     <g transform=\"translate(69.287834 285.127137)scale(0.12 -0.12)\">\n      <use xlink:href=\"#DejaVuSans-50\"/>\n      <use x=\"63.623047\" xlink:href=\"#DejaVuSans-53\"/>\n     </g>\n    </g>\n   </g>\n  </g>\n </g>\n <defs>\n  <clipPath id=\"p2fb1d1c63d\">\n   <rect height=\"288\" width=\"432\" x=\"7.2\" y=\"7.2\"/>\n  </clipPath>\n </defs>\n</svg>\n",
      "image/png": "[encoded data removed]"
     },
     "metadata": {}
    }
   ],
   "source": [
    "nx.draw(g.g, with_labels=True)"
   ]
  },
  {
   "cell_type": "code",
   "execution_count": 5,
   "metadata": {},
   "outputs": [
    {
     "output_type": "execute_result",
     "data": {
      "text/plain": "tensor([[ 0,  0,  1,  1,  5,  5,  2, 23, 23,  3,  3,  4, 20, 20,  9,  9,  6,  6,\n          8, 13, 10, 10, 11, 17, 17, 12, 14, 14,  1,  5,  2, 23,  4,  6,  3, 24,\n         25,  4, 20,  9, 21, 22,  8, 10,  7,  8, 13, 12, 11, 17, 12, 18, 19, 14,\n         15, 16],\n        [ 1,  5,  2, 23,  4,  6,  3, 24, 25,  4, 20,  9, 21, 22,  8, 10,  7,  8,\n         13, 12, 11, 17, 12, 18, 19, 14, 15, 16,  0,  0,  1,  1,  5,  5,  2, 23,\n         23,  3,  3,  4, 20, 20,  9,  9,  6,  6,  8, 13, 10, 10, 11, 17, 17, 12,\n         14, 14]])"
     },
     "metadata": {},
     "execution_count": 5
    }
   ],
   "source": [
    "g.edge_mat"
   ]
  },
  {
   "cell_type": "code",
   "execution_count": 6,
   "metadata": {},
   "outputs": [
    {
     "output_type": "execute_result",
     "data": {
      "text/plain": "EdgeView([(0, 1), (0, 5), (1, 2), (1, 23), (5, 4), (5, 6), (2, 3), (23, 24), (23, 25), (3, 4), (3, 20), (4, 9), (20, 21), (20, 22), (9, 8), (9, 10), (6, 7), (6, 8), (8, 13), (13, 12), (10, 11), (10, 17), (11, 12), (17, 18), (17, 19), (12, 14), (14, 15), (14, 16)])"
     },
     "metadata": {},
     "execution_count": 6
    }
   ],
   "source": [
    "g.g.edges"
   ]
  },
  {
   "cell_type": "code",
   "execution_count": 7,
   "metadata": {},
   "outputs": [
    {
     "output_type": "execute_result",
     "data": {
      "text/plain": "torch.Size([2, 56])"
     },
     "metadata": {},
     "execution_count": 7
    }
   ],
   "source": [
    "g.edge_mat.shape"
   ]
  },
  {
   "cell_type": "code",
   "execution_count": 8,
   "metadata": {},
   "outputs": [
    {
     "output_type": "execute_result",
     "data": {
      "text/plain": "[[1, 5],\n [0, 2, 23],\n [1, 3],\n [2, 4, 20],\n [5, 3, 9],\n [0, 4, 6],\n [5, 7, 8],\n [6],\n [9, 6, 13],\n [4, 8, 10],\n [9, 11, 17],\n [10, 12],\n [13, 11, 14],\n [8, 12],\n [12, 15, 16],\n [14],\n [14],\n [10, 18, 19],\n [17],\n [17],\n [3, 21, 22],\n [20],\n [20],\n [1, 24, 25],\n [23],\n [23]]"
     },
     "metadata": {},
     "execution_count": 8
    }
   ],
   "source": [
    "g.neighbors"
   ]
  },
  {
   "cell_type": "code",
   "execution_count": 9,
   "metadata": {
    "tags": []
   },
   "outputs": [
    {
     "output_type": "stream",
     "name": "stdout",
     "text": "[0, 0, 0, 0, 0, 0, 1, 2, 2, 1, 2, 2, 3]\n[0, 0, 0, 0, 0, 0, 1, 2, 2, 0, 0, 0, 0, 0, 0, 0, 4]\n[0, 0, 0, 0, 0, 0, 1, 2, 2, 1, 2, 2, 5]\n[0, 0, 0, 0, 0, 0, 1, 2, 2, 0, 0, 0, 0, 0, 0, 0, 3]\n[0, 0, 0, 0, 0, 0, 1, 0, 2, 0, 3, 3, 3, 0, 0, 0, 0, 0, 0, 0, 1, 2, 2]\n[0, 0, 0, 0, 0, 0, 1, 2, 2, 0, 0, 0, 0, 0, 0, 0, 6]\n[0, 0, 0, 0, 0, 0, 1, 2, 2, 2, 0, 0, 0, 0, 0, 0, 2, 5, 5]\n[0, 0, 0, 0, 0, 0, 1, 2, 2, 0, 0, 0, 0, 0, 0, 0, 5]\n[0, 0, 0, 0, 0, 0, 1, 2, 2, 3]\n[0, 0, 0, 0, 0, 0, 3, 3, 1, 2, 2]\n[0, 0, 0, 0, 0, 0, 5, 5, 2, 0, 0, 0, 0, 0, 0, 5, 1, 2, 2, 5, 2]\n[0, 0, 0, 0, 0, 0, 1, 2, 2, 5, 3]\n[0, 0, 0, 0, 0, 0, 5, 1, 2, 2, 1]\n[0, 0, 0, 0, 0, 0, 5, 5, 1, 2, 2]\n[0, 0, 0, 0, 0, 0, 2, 0, 0, 0, 0, 0, 0, 2, 5, 5, 5, 1, 2, 2]\n[0, 0, 0, 0, 0, 0, 5, 1, 2, 2, 5]\n[0, 0, 0, 0, 0, 0, 1, 2, 2, 1, 6, 1, 2, 2]\n[0, 0, 0, 0, 0, 0, 5, 5, 2, 0, 0, 0, 0, 0, 0, 5, 5, 1, 2, 2, 5, 2]\n[0, 0, 0, 0, 0, 0, 3, 1, 2, 2, 1, 2, 2]\n[0, 0, 0, 0, 0, 0, 3, 1, 2, 2, 3]\n[0, 0, 0, 0, 0, 0, 1, 2, 2, 5]\n"
    }
   ],
   "source": [
    "for g in graphs:\n",
    "    if 3 in g.node_tags or 4 in g.node_tags or 5 in g.node_tags or 6 in g.node_tags:\n",
    "        print(g.node_tags)"
   ]
  },
  {
   "cell_type": "code",
   "execution_count": 10,
   "metadata": {},
   "outputs": [
    {
     "output_type": "execute_result",
     "data": {
      "text/plain": "tensor([[1., 0., 0., 0., 0., 0., 0.],\n        [1., 0., 0., 0., 0., 0., 0.],\n        [1., 0., 0., 0., 0., 0., 0.],\n        [0., 1., 0., 0., 0., 0., 0.],\n        [1., 0., 0., 0., 0., 0., 0.],\n        [0., 1., 0., 0., 0., 0., 0.],\n        [1., 0., 0., 0., 0., 0., 0.],\n        [1., 0., 0., 0., 0., 0., 0.],\n        [1., 0., 0., 0., 0., 0., 0.],\n        [0., 1., 0., 0., 0., 0., 0.],\n        [0., 0., 1., 0., 0., 0., 0.],\n        [0., 0., 1., 0., 0., 0., 0.]])"
     },
     "metadata": {},
     "execution_count": 10
    }
   ],
   "source": [
    "g.node_features"
   ]
  },
  {
   "cell_type": "code",
   "execution_count": 11,
   "metadata": {},
   "outputs": [
    {
     "output_type": "execute_result",
     "data": {
      "text/plain": "torch.Size([12, 7])"
     },
     "metadata": {},
     "execution_count": 11
    }
   ],
   "source": [
    "g.node_features.shape"
   ]
  },
  {
   "cell_type": "code",
   "execution_count": 12,
   "metadata": {
    "tags": []
   },
   "outputs": [
    {
     "output_type": "stream",
     "name": "stdout",
     "text": "0 0 0 0 0 0 0 0 0 0 0 0 0 0 0 0 0 0 0 0 0 0 0 0 0 0 0 0 0 0 0 0 0 0 0 0 0 0 0 0 0 0 0 0 0 0 0 0 0 0 0 0 0 0 0 0 0 0 0 0 0 0 0 0 0 0 0 0 0 0 0 0 0 0 0 0 0 0 0 0 0 0 0 0 0 0 0 0 0 0 0 0 0 0 0 0 0 0 0 0 0 0 0 0 0 0 0 0 0 0 0 0 0 0 0 0 0 0 0 0 0 0 0 0 0 1 1 1 1 1 1 1 1 1 1 1 1 1 1 1 1 1 1 1 1 1 1 1 1 1 1 1 1 1 1 1 1 1 1 1 1 1 1 1 1 1 1 1 1 1 1 1 1 1 1 1 1 1 1 1 1 1 1 1 1 1 1 1"
    }
   ],
   "source": [
    "for g in graphs:\n",
    "    print(g.label, end=' ')"
   ]
  },
  {
   "cell_type": "code",
   "execution_count": 13,
   "metadata": {},
   "outputs": [],
   "source": [
    "from models.graphcnn import GraphCNN"
   ]
  },
  {
   "cell_type": "code",
   "execution_count": 14,
   "metadata": {},
   "outputs": [],
   "source": [
    "model = GraphCNN(\n",
    "    num_layers=5,\n",
    "    num_mlp_layers=2,\n",
    "    input_dim=graphs[0].node_features.shape[1],\n",
    "    hidden_dim=64,\n",
    "    output_dim=2,\n",
    "    final_dropout=.5,\n",
    "    learn_eps=True,\n",
    "    graph_pooling_type='sum',\n",
    "    neighbor_pooling_type='sum',\n",
    "    device=torch.device('cuda')\n",
    ").to(torch.device('cuda'))"
   ]
  },
  {
   "cell_type": "code",
   "execution_count": 23,
   "metadata": {},
   "outputs": [
    {
     "output_type": "execute_result",
     "data": {
      "text/plain": "<bound method Module.named_parameters of GraphCNN(\n  (mlps): ModuleList(\n    (0): MLP(\n      (linears): ModuleList(\n        (0): Linear(in_features=7, out_features=64, bias=True)\n        (1): Linear(in_features=64, out_features=64, bias=True)\n      )\n      (batch_norms): ModuleList(\n        (0): BatchNorm1d(64, eps=1e-05, momentum=0.1, affine=True, track_running_stats=True)\n      )\n    )\n    (1): MLP(\n      (linears): ModuleList(\n        (0): Linear(in_features=64, out_features=64, bias=True)\n        (1): Linear(in_features=64, out_features=64, bias=True)\n      )\n      (batch_norms): ModuleList(\n        (0): BatchNorm1d(64, eps=1e-05, momentum=0.1, affine=True, track_running_stats=True)\n      )\n    )\n    (2): MLP(\n      (linears): ModuleList(\n        (0): Linear(in_features=64, out_features=64, bias=True)\n        (1): Linear(in_features=64, out_features=64, bias=True)\n      )\n      (batch_norms): ModuleList(\n        (0): BatchNorm1d(64, eps=1e-05, momentum=0.1, affine=True, track_running_stats=True)\n      )\n    )\n    (3): MLP(\n      (linears): ModuleList(\n        (0): Linear(in_features=64, out_features=64, bias=True)\n        (1): Linear(in_features=64, out_features=64, bias=True)\n      )\n      (batch_norms): ModuleList(\n        (0): BatchNorm1d(64, eps=1e-05, momentum=0.1, affine=True, track_running_stats=True)\n      )\n    )\n  )\n  (batch_norms): ModuleList(\n    (0): BatchNorm1d(64, eps=1e-05, momentum=0.1, affine=True, track_running_stats=True)\n    (1): BatchNorm1d(64, eps=1e-05, momentum=0.1, affine=True, track_running_stats=True)\n    (2): BatchNorm1d(64, eps=1e-05, momentum=0.1, affine=True, track_running_stats=True)\n    (3): BatchNorm1d(64, eps=1e-05, momentum=0.1, affine=True, track_running_stats=True)\n  )\n  (linears_prediction): ModuleList(\n    (0): Linear(in_features=7, out_features=2, bias=True)\n    (1): Linear(in_features=64, out_features=2, bias=True)\n    (2): Linear(in_features=64, out_features=2, bias=True)\n    (3): Linear(in_features=64, out_features=2, bias=True)\n    (4): Linear(in_features=64, out_features=2, bias=True)\n  )\n)>"
     },
     "metadata": {},
     "execution_count": 23
    }
   ],
   "source": [
    "params = model.named_parameters\n",
    "params"
   ]
  },
  {
   "cell_type": "code",
   "execution_count": 31,
   "metadata": {},
   "outputs": [
    {
     "output_type": "execute_result",
     "data": {
      "text/plain": "ModuleList(\n  (0): BatchNorm1d(64, eps=1e-05, momentum=0.1, affine=True, track_running_stats=True)\n  (1): BatchNorm1d(64, eps=1e-05, momentum=0.1, affine=True, track_running_stats=True)\n  (2): BatchNorm1d(64, eps=1e-05, momentum=0.1, affine=True, track_running_stats=True)\n  (3): BatchNorm1d(64, eps=1e-05, momentum=0.1, affine=True, track_running_stats=True)\n)"
     },
     "metadata": {},
     "execution_count": 31
    }
   ],
   "source": [
    "model.batch_norms"
   ]
  },
  {
   "cell_type": "code",
   "execution_count": 28,
   "metadata": {},
   "outputs": [
    {
     "output_type": "execute_result",
     "data": {
      "text/plain": "False"
     },
     "metadata": {},
     "execution_count": 28
    }
   ],
   "source": [
    "model.mlps[0].linear_or_not"
   ]
  },
  {
   "cell_type": "code",
   "execution_count": null,
   "metadata": {},
   "outputs": [],
   "source": []
  }
 ]
}